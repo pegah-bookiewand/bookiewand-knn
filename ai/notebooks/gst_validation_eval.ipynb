{
 "cells": [
  {
   "cell_type": "code",
   "id": "initial_id",
   "metadata": {
    "collapsed": true,
    "ExecuteTime": {
     "end_time": "2025-05-07T14:28:46.634145Z",
     "start_time": "2025-05-07T14:28:45.358513Z"
    }
   },
   "source": [
    "import os\n",
    "import pickle\n",
    "import json\n",
    "\n",
    "import numpy as np\n",
    "import pandas as pd\n",
    "import matplotlib.pyplot as plt\n",
    "from sklearn.metrics import confusion_matrix\n",
    "\n",
    "from ai.ml.knn.inference import knn_inference\n",
    "from ai.ml.knn.evaluation import evaluate"
   ],
   "outputs": [],
   "execution_count": 35
  },
  {
   "metadata": {
    "ExecuteTime": {
     "end_time": "2025-05-07T14:28:51.635627Z",
     "start_time": "2025-05-07T14:28:51.631461Z"
    }
   },
   "cell_type": "code",
   "source": [
    "# cashrec_cashpaid\n",
    "TENANT_ID = \"77b67978-ae76-4480-ac96-066ea269541e\"\n",
    "TABLE_NAME = \"accrec_accpay\"\n",
    "SERVICE = \"gst_validation\""
   ],
   "id": "4ff9b8f55846d855",
   "outputs": [],
   "execution_count": 36
  },
  {
   "metadata": {},
   "cell_type": "markdown",
   "source": "# Loading Model Selection\n",
   "id": "5a81b5d694b8368e"
  },
  {
   "metadata": {
    "ExecuteTime": {
     "end_time": "2025-05-07T14:28:52.788985Z",
     "start_time": "2025-05-07T14:28:52.785497Z"
    }
   },
   "cell_type": "code",
   "source": [
    "model_selection_timestamp = \"2025-05-07-10-13-10\"\n",
    "model_selection_dir = f\"/Users/amirhossein/Projects/bookiewand/ai/data/{SERVICE}/model_selection/{TENANT_ID}/{model_selection_timestamp}/{TABLE_NAME}\""
   ],
   "id": "688dda40e27d0521",
   "outputs": [],
   "execution_count": 37
  },
  {
   "metadata": {
    "ExecuteTime": {
     "end_time": "2025-05-07T14:28:54.139484Z",
     "start_time": "2025-05-07T14:28:53.900931Z"
    }
   },
   "cell_type": "code",
   "source": [
    "with open(os.path.join(model_selection_dir, 'cv_results.json'), 'r') as handle:\n",
    "    cv_results = json.load(handle)\n",
    "with open(os.path.join(model_selection_dir, 'cv_best_minimal_config.json'), 'r') as handle:\n",
    "    cv_best_minimal_config = json.load(handle)\n",
    "with open(os.path.join(model_selection_dir, 'hyperparameters.json'), 'r') as handle:\n",
    "    cv_hyperparameters = json.load(handle)\n",
    "cv_df = pd.read_csv(os.path.join(model_selection_dir, 'df.csv'))"
   ],
   "id": "a8153c32eb6454e5",
   "outputs": [],
   "execution_count": 38
  },
  {
   "metadata": {},
   "cell_type": "markdown",
   "source": "# Loading Train",
   "id": "e2164944bcc19665"
  },
  {
   "metadata": {
    "ExecuteTime": {
     "end_time": "2025-05-07T14:28:55.232497Z",
     "start_time": "2025-05-07T14:28:55.227676Z"
    }
   },
   "cell_type": "code",
   "source": [
    "train_timestamp = \"2025-05-07-12-38-29\"\n",
    "train_checkpoints_dir = f\"/Users/amirhossein/Projects/bookiewand/ai/data/{SERVICE}/checkpoints/{TENANT_ID}/{train_timestamp}/{TABLE_NAME}\""
   ],
   "id": "c2d07b9397a46047",
   "outputs": [],
   "execution_count": 39
  },
  {
   "metadata": {
    "ExecuteTime": {
     "end_time": "2025-05-07T14:28:56.459875Z",
     "start_time": "2025-05-07T14:28:56.291542Z"
    }
   },
   "cell_type": "code",
   "source": [
    "with open(os.path.join(train_checkpoints_dir, 'encoders.pkl'), 'rb') as handle:\n",
    "    train_encoders = pickle.load(handle)\n",
    "with open(os.path.join(train_checkpoints_dir, 'hyperparameters.json'), 'r') as handle:\n",
    "    train_hyperparameters = json.load(handle)\n",
    "with open(os.path.join(train_checkpoints_dir, 'model.pkl'), 'rb') as handle:\n",
    "    knn_model = pickle.load(handle)\n",
    "train_df = pd.read_csv(os.path.join(train_checkpoints_dir, 'train.csv'))"
   ],
   "id": "fcbdd87d1a3d5d38",
   "outputs": [],
   "execution_count": 40
  },
  {
   "metadata": {
    "ExecuteTime": {
     "end_time": "2025-05-07T14:28:57.499789Z",
     "start_time": "2025-05-07T14:28:57.488062Z"
    }
   },
   "cell_type": "code",
   "source": [
    "model_data = {\n",
    "    \"encoders\": train_encoders,\n",
    "    \"hyperparameters\": train_hyperparameters,\n",
    "    \"train_df\": train_df,\n",
    "    \"knn_model\": knn_model,\n",
    "}"
   ],
   "id": "a5ae6bdb28cda186",
   "outputs": [],
   "execution_count": 41
  },
  {
   "metadata": {
    "ExecuteTime": {
     "end_time": "2025-05-07T14:28:58.552004Z",
     "start_time": "2025-05-07T14:28:58.547564Z"
    }
   },
   "cell_type": "code",
   "source": [
    "print(\"[*] target_variable: \", train_hyperparameters[\"target_variable\"])\n",
    "print(\"[*] numerical_features: \", train_hyperparameters[\"numerical_features\"])\n",
    "print(\"[*] categorical_features: \", train_hyperparameters[\"categorical_features\"])\n",
    "print(\"[*] n_neighbors: \", train_hyperparameters[\"n_neighbors\"])\n",
    "print(\"[*] weights: \", train_hyperparameters[\"weights\"])\n",
    "print(\"[*] X_train.shape: \", train_hyperparameters[\"X.shape\"])\n",
    "print(\"[*] y_train.shape: \", train_hyperparameters[\"y.shape\"])"
   ],
   "id": "a70d4d639a45d6b7",
   "outputs": [
    {
     "name": "stdout",
     "output_type": "stream",
     "text": [
      "[*] target_variable:  tax_name\n",
      "[*] numerical_features:  ['journal_line_tax_amount']\n",
      "[*] categorical_features:  ['journal_line_description', 'source_type', 'invoice_contact_name']\n",
      "[*] n_neighbors:  5\n",
      "[*] weights:  uniform\n",
      "[*] X_train.shape:  [37127, 19425]\n",
      "[*] y_train.shape:  [37127]\n"
     ]
    }
   ],
   "execution_count": 42
  },
  {
   "metadata": {},
   "cell_type": "markdown",
   "source": "# Loading Eval Data",
   "id": "9b9234242479d586"
  },
  {
   "metadata": {
    "ExecuteTime": {
     "end_time": "2025-05-07T14:28:59.779046Z",
     "start_time": "2025-05-07T14:28:59.613864Z"
    }
   },
   "cell_type": "code",
   "source": [
    "raw_data_timestamp = \"2025-05-07-12-38-29\"\n",
    "raw_data_dir = f\"/Users/amirhossein/Projects/bookiewand/ai/data/{SERVICE}/raw/{raw_data_timestamp}/{TABLE_NAME}\"\n",
    "raw_df = pd.read_csv(os.path.join(raw_data_dir, f\"{TENANT_ID}.csv\"))"
   ],
   "id": "a8cd9d9a43cefced",
   "outputs": [],
   "execution_count": 43
  },
  {
   "metadata": {},
   "cell_type": "markdown",
   "source": "# Running Inference on Eval Data",
   "id": "1232b8fe59f7bb3"
  },
  {
   "metadata": {
    "ExecuteTime": {
     "end_time": "2025-05-07T14:30:04.707318Z",
     "start_time": "2025-05-07T14:29:00.814623Z"
    }
   },
   "cell_type": "code",
   "source": [
    "# calling the knn inference over the raw df\n",
    "response = knn_inference(tenant_id=TENANT_ID,\n",
    "                         table_name=TABLE_NAME,\n",
    "                         df=raw_df,\n",
    "                         model_data=model_data)"
   ],
   "id": "8685b5eb2cb35b7c",
   "outputs": [
    {
     "name": "stdout",
     "output_type": "stream",
     "text": [
      "[*] 2025-05-07 17:59:00 - INFO - Running KNN inference for tenant: 77b67978-ae76-4480-ac96-066ea269541e\n",
      "[*] 2025-05-07 17:59:00 - INFO - Converted target variable to string and replaced specified missing values.\n",
      "[*] 2025-05-07 17:59:00 - INFO - Found 0 missing values in target variable 'tax_name'.\n",
      "[*] 2025-05-07 17:59:00 - INFO - Filled missing values in target variable 'tax_name' with 'NOT_APPLICABLE'.\n",
      "[*] 2025-05-07 17:59:00 - INFO - Final unique values in tax_name: ['GST on Expenses' 'GST on Income' 'GST Free Income' 'GST Free Expenses'\n",
      " 'BAS Excluded' 'GST on Capital' 'GST Free Exports']\n",
      "[*] 2025-05-07 17:59:00 - INFO - Data shape after handling missing target values: (37128, 17)\n",
      "[*] 2025-05-07 17:59:07 - INFO - Shape of feature matrix X: (37128, 19425)\n",
      "[*] 2025-05-07 17:59:14 - INFO - Predictions made for 37128 samples.\n",
      "[*] 2025-05-07 17:59:14 - INFO - Generating explanations for 37128 predictions.\n",
      "[*] 2025-05-07 17:59:33 - INFO - Sample 10611 with REMOVED class during training GST Free Exports: Setting user_class_frequency=0.\n",
      "[*] 2025-05-07 18:00:04 - INFO - Postprocessing complete.\n",
      "[*] 2025-05-07 18:00:04 - INFO - Inference completed successfully.\n"
     ]
    }
   ],
   "execution_count": 44
  },
  {
   "metadata": {
    "ExecuteTime": {
     "end_time": "2025-05-07T14:30:11.226388Z",
     "start_time": "2025-05-07T14:30:11.131625Z"
    }
   },
   "cell_type": "code",
   "source": [
    "# computing the evaluation results dataframe\n",
    "results_df = evaluate(response=response)"
   ],
   "id": "57ee38cc26a15b3",
   "outputs": [],
   "execution_count": 45
  },
  {
   "metadata": {
    "ExecuteTime": {
     "end_time": "2025-05-07T14:30:19.453044Z",
     "start_time": "2025-05-07T14:30:17.650968Z"
    }
   },
   "cell_type": "code",
   "source": [
    "# plotting histogram of distances to neighbors for correct and wrong prediction\n",
    "\n",
    "fig, axes = plt.subplots(nrows=2, ncols=3, figsize=(20, 10))\n",
    "\n",
    "axes[0, 0].set_title('Min Distance (is_error=False)')\n",
    "axes[0, 1].set_title('Avg Distance (is_error=False)')\n",
    "axes[0, 2].set_title('Max Distance (is_error=False)')  # New title\n",
    "axes[1, 0].set_title('Min Distance (is_error=True)')\n",
    "axes[1, 1].set_title('Avg Distance (is_error=True)')\n",
    "axes[1, 2].set_title('Max Distance (is_error=True)')  # New title\n",
    "\n",
    "min_x = min(results_df['min_distance'].min(), results_df['avg_distance'].min(), results_df['max_distance'].min())\n",
    "max_x = max(results_df['min_distance'].max(), results_df['avg_distance'].max(), results_df['max_distance'].max())\n",
    "\n",
    "false_results = results_df[results_df['is_error'] == False]\n",
    "true_results = results_df[results_df['is_error'] == True]\n",
    "\n",
    "bins = np.linspace(min_x, max_x, 101)\n",
    "\n",
    "axes[0, 0].hist(false_results['min_distance'], bins=bins, alpha=0.7, color='green')\n",
    "axes[0, 1].hist(false_results['avg_distance'], bins=bins, alpha=0.7, color='green')\n",
    "axes[0, 2].hist(false_results['max_distance'], bins=bins, alpha=0.7, color='green')  # New plot\n",
    "\n",
    "axes[1, 0].hist(true_results['min_distance'], bins=bins, alpha=0.7, color='red')\n",
    "axes[1, 1].hist(true_results['avg_distance'], bins=bins, alpha=0.7, color='red')\n",
    "axes[1, 2].hist(true_results['max_distance'], bins=bins, alpha=0.7, color='red')  # New plot\n",
    "\n",
    "for ax in axes.flatten():\n",
    "    ax.set_xlim(min_x, max_x)\n",
    "    ax.set_xlabel('Distance')\n",
    "    ax.set_ylabel('Frequency')\n",
    "\n",
    "plt.tight_layout()\n",
    "plt.show()"
   ],
   "id": "85f14183cfea3d00",
   "outputs": [
    {
     "data": {
      "text/plain": [
       "<Figure size 2000x1000 with 6 Axes>"
      ],
      "image/png": "[encoded data removed]"
     },
     "metadata": {},
     "output_type": "display_data"
    }
   ],
   "execution_count": 46
  },
  {
   "metadata": {
    "ExecuteTime": {
     "end_time": "2025-05-07T14:30:25.930418Z",
     "start_time": "2025-05-07T14:30:25.926077Z"
    }
   },
   "cell_type": "code",
   "source": [
    "# computing the accuracy\n",
    "accuracy = 1 - len(results_df[results_df[\"is_error\"]]) / len(results_df)\n",
    "print(\"[*] Evaluation accuracy:\", accuracy)"
   ],
   "id": "e3891b5a55eba30e",
   "outputs": [
    {
     "name": "stdout",
     "output_type": "stream",
     "text": [
      "[*] Evaluation accuracy: 0.9983301012712777\n"
     ]
    }
   ],
   "execution_count": 47
  },
  {
   "metadata": {
    "ExecuteTime": {
     "end_time": "2025-05-07T14:30:32.098771Z",
     "start_time": "2025-05-07T14:30:32.046892Z"
    }
   },
   "cell_type": "code",
   "source": [
    "# Confusion matrix\n",
    "cm = confusion_matrix(\n",
    "    y_true=results_df['ground_truth'],\n",
    "    y_pred=results_df['prediction']\n",
    ")"
   ],
   "id": "8d74da0ee59442e9",
   "outputs": [],
   "execution_count": 48
  },
  {
   "metadata": {
    "ExecuteTime": {
     "end_time": "2025-05-07T14:30:38.550922Z",
     "start_time": "2025-05-07T14:30:38.492212Z"
    }
   },
   "cell_type": "code",
   "source": [
    "# Check the shape of the confusion matrix\n",
    "print(f\"Confusion matrix shape: {cm.shape}\")\n",
    "\n",
    "# Calculate precision, recall, and accuracy for each class\n",
    "unique_classes = np.unique(results_df['ground_truth'])\n",
    "n_classes = len(results_df['ground_truth'].unique())\n",
    "metrics_data = []\n",
    "\n",
    "total_samples = cm.sum()\n",
    "class_samples = np.sum(cm, axis=1)  # Sum of rows gives total samples per class\n",
    "\n",
    "for i in range(n_classes):\n",
    "    # get the ground-truth class label\n",
    "    gt_label = unique_classes[i]\n",
    "    num_gt_labels_in_raw_df = len(raw_df[raw_df['tax_name'] == gt_label])\n",
    "    num_gt_labels_in_train_df = len(train_df[train_df['tax_name'] == gt_label])\n",
    "\n",
    "    # True positives: diagonal element\n",
    "    tp = cm[i, i]\n",
    "\n",
    "    # False positives: sum of column i - true positives\n",
    "    fp = cm[:, i].sum() - tp\n",
    "\n",
    "    # False negatives: sum of row i - true positives\n",
    "    fn = cm[i, :].sum() - tp\n",
    "\n",
    "    # True negatives: sum of all values - (tp + fp + fn)\n",
    "    tn = total_samples - (tp + fp + fn)\n",
    "\n",
    "    # Number of samples in this class\n",
    "    samples = class_samples[i]\n",
    "\n",
    "    # Percentage of samples\n",
    "    samples_percentage = (samples / total_samples) * 100\n",
    "\n",
    "    # Calculate metrics\n",
    "    precision = tp / (tp + fp) if (tp + fp) > 0 else 0\n",
    "    recall = tp / (tp + fn) if (tp + fn) > 0 else 0\n",
    "    accuracy = (tp + tn) / total_samples\n",
    "\n",
    "\n",
    "    metrics_data.append({\n",
    "        'class': gt_label,\n",
    "        'num_samples_in_eval': num_gt_labels_in_raw_df,\n",
    "        'pct_in_eval (%)': samples_percentage,\n",
    "        'num_samples_in_train': num_gt_labels_in_train_df,\n",
    "        'TP': tp,\n",
    "        'FP': fp,\n",
    "        'TN': tn,\n",
    "        'FN': fn,\n",
    "        'precision': precision,\n",
    "        'recall': recall,\n",
    "        'accuracy': accuracy\n",
    "    })\n",
    "\n",
    "# Create a DataFrame for better visualization\n",
    "metrics_df = pd.DataFrame(metrics_data)\n",
    "\n",
    "# Calculate weighted macro averages\n",
    "weighted_precision = np.average(metrics_df['precision'], weights=metrics_df['num_samples_in_eval'])\n",
    "weighted_recall = np.average(metrics_df['recall'], weights=metrics_df['num_samples_in_eval'])\n",
    "weighted_accuracy = np.average(metrics_df['accuracy'], weights=metrics_df['num_samples_in_eval'])\n",
    "\n",
    "\n",
    "# Calculate simple macro averages\n",
    "macro_precision = metrics_df['precision'].mean()\n",
    "macro_recall = metrics_df['recall'].mean()\n",
    "macro_accuracy = metrics_df['accuracy'].mean()\n",
    "\n",
    "# Add macro and weighted averages to the DataFrame\n",
    "summary_metrics_df = pd.concat([\n",
    "    pd.DataFrame([{\n",
    "        'class': 'Macro Avg',\n",
    "        'num_samples_in_eval': total_samples,\n",
    "        'pct_in_eval (%)': metrics_df['pct_in_eval (%)'].sum(),\n",
    "        'num_samples_in_train': metrics_df['num_samples_in_train'].sum(),\n",
    "        'precision': macro_precision,\n",
    "        'recall': macro_recall,\n",
    "        'accuracy': macro_accuracy\n",
    "    }]),\n",
    "    pd.DataFrame([{\n",
    "        'class': 'Weighted Avg',\n",
    "        'num_samples_in_eval': total_samples,\n",
    "        'pct_in_eval (%)': metrics_df['pct_in_eval (%)'].sum(),\n",
    "        'num_samples_in_train': metrics_df['num_samples_in_train'].sum(),\n",
    "        'precision': weighted_precision,\n",
    "        'recall': weighted_recall,\n",
    "        'accuracy': weighted_accuracy\n",
    "    }])\n",
    "], ignore_index=True)\n",
    "\n",
    "# Calculate overall accuracy (global accuracy)\n",
    "overall_accuracy = (np.trace(cm) / total_samples).item()"
   ],
   "id": "9106e36ddd5c7c80",
   "outputs": [
    {
     "name": "stdout",
     "output_type": "stream",
     "text": [
      "Confusion matrix shape: (7, 7)\n"
     ]
    }
   ],
   "execution_count": 49
  },
  {
   "metadata": {
    "ExecuteTime": {
     "end_time": "2025-05-07T14:30:44.794026Z",
     "start_time": "2025-05-07T14:30:44.790049Z"
    }
   },
   "cell_type": "code",
   "source": "overall_accuracy",
   "id": "84a3267a35c02bcb",
   "outputs": [
    {
     "data": {
      "text/plain": [
       "0.9983301012712777"
      ]
     },
     "execution_count": 50,
     "metadata": {},
     "output_type": "execute_result"
    }
   ],
   "execution_count": 50
  },
  {
   "metadata": {
    "ExecuteTime": {
     "end_time": "2025-05-07T14:30:51.096346Z",
     "start_time": "2025-05-07T14:30:51.086732Z"
    }
   },
   "cell_type": "code",
   "source": "metrics_df",
   "id": "119cad039a180735",
   "outputs": [
    {
     "data": {
      "text/plain": [
       "               class  num_samples_in_eval  pct_in_eval (%)  \\\n",
       "0       BAS Excluded                  126         0.339367   \n",
       "1  GST Free Expenses                   51         0.137363   \n",
       "2   GST Free Exports                    1         0.002693   \n",
       "3    GST Free Income                  109         0.293579   \n",
       "4     GST on Capital                   12         0.032321   \n",
       "5    GST on Expenses                13905        37.451519   \n",
       "6      GST on Income                22924        61.743159   \n",
       "\n",
       "   num_samples_in_train     TP  FP     TN  FN  precision    recall  accuracy  \n",
       "0                   126    119  23  36979   7   0.838028  0.944444  0.999192  \n",
       "1                    51     42   4  37073   9   0.913043  0.823529  0.999650  \n",
       "2                     0      0   0  37127   1   0.000000  0.000000  0.999973  \n",
       "3                   109     98   6  37013  11   0.942308  0.899083  0.999542  \n",
       "4                    12      0   0  37116  12   0.000000  0.000000  0.999677  \n",
       "5                 13905  13888  16  23207  17   0.998849  0.998777  0.999111  \n",
       "6                 22924  22919  13  14191   5   0.999433  0.999782  0.999515  "
      ],
      "text/html": [
       "<div>\n",
       "<style scoped>\n",
       "    .dataframe tbody tr th:only-of-type {\n",
       "        vertical-align: middle;\n",
       "    }\n",
       "\n",
       "    .dataframe tbody tr th {\n",
       "        vertical-align: top;\n",
       "    }\n",
       "\n",
       "    .dataframe thead th {\n",
       "        text-align: right;\n",
       "    }\n",
       "</style>\n",
       "<table border=\"1\" class=\"dataframe\">\n",
       "  <thead>\n",
       "    <tr style=\"text-align: right;\">\n",
       "      <th></th>\n",
       "      <th>class</th>\n",
       "      <th>num_samples_in_eval</th>\n",
       "      <th>pct_in_eval (%)</th>\n",
       "      <th>num_samples_in_train</th>\n",
       "      <th>TP</th>\n",
       "      <th>FP</th>\n",
       "      <th>TN</th>\n",
       "      <th>FN</th>\n",
       "      <th>precision</th>\n",
       "      <th>recall</th>\n",
       "      <th>accuracy</th>\n",
       "    </tr>\n",
       "  </thead>\n",
       "  <tbody>\n",
       "    <tr>\n",
       "      <th>0</th>\n",
       "      <td>BAS Excluded</td>\n",
       "      <td>126</td>\n",
       "      <td>0.339367</td>\n",
       "      <td>126</td>\n",
       "      <td>119</td>\n",
       "      <td>23</td>\n",
       "      <td>36979</td>\n",
       "      <td>7</td>\n",
       "      <td>0.838028</td>\n",
       "      <td>0.944444</td>\n",
       "      <td>0.999192</td>\n",
       "    </tr>\n",
       "    <tr>\n",
       "      <th>1</th>\n",
       "      <td>GST Free Expenses</td>\n",
       "      <td>51</td>\n",
       "      <td>0.137363</td>\n",
       "      <td>51</td>\n",
       "      <td>42</td>\n",
       "      <td>4</td>\n",
       "      <td>37073</td>\n",
       "      <td>9</td>\n",
       "      <td>0.913043</td>\n",
       "      <td>0.823529</td>\n",
       "      <td>0.999650</td>\n",
       "    </tr>\n",
       "    <tr>\n",
       "      <th>2</th>\n",
       "      <td>GST Free Exports</td>\n",
       "      <td>1</td>\n",
       "      <td>0.002693</td>\n",
       "      <td>0</td>\n",
       "      <td>0</td>\n",
       "      <td>0</td>\n",
       "      <td>37127</td>\n",
       "      <td>1</td>\n",
       "      <td>0.000000</td>\n",
       "      <td>0.000000</td>\n",
       "      <td>0.999973</td>\n",
       "    </tr>\n",
       "    <tr>\n",
       "      <th>3</th>\n",
       "      <td>GST Free Income</td>\n",
       "      <td>109</td>\n",
       "      <td>0.293579</td>\n",
       "      <td>109</td>\n",
       "      <td>98</td>\n",
       "      <td>6</td>\n",
       "      <td>37013</td>\n",
       "      <td>11</td>\n",
       "      <td>0.942308</td>\n",
       "      <td>0.899083</td>\n",
       "      <td>0.999542</td>\n",
       "    </tr>\n",
       "    <tr>\n",
       "      <th>4</th>\n",
       "      <td>GST on Capital</td>\n",
       "      <td>12</td>\n",
       "      <td>0.032321</td>\n",
       "      <td>12</td>\n",
       "      <td>0</td>\n",
       "      <td>0</td>\n",
       "      <td>37116</td>\n",
       "      <td>12</td>\n",
       "      <td>0.000000</td>\n",
       "      <td>0.000000</td>\n",
       "      <td>0.999677</td>\n",
       "    </tr>\n",
       "    <tr>\n",
       "      <th>5</th>\n",
       "      <td>GST on Expenses</td>\n",
       "      <td>13905</td>\n",
       "      <td>37.451519</td>\n",
       "      <td>13905</td>\n",
       "      <td>13888</td>\n",
       "      <td>16</td>\n",
       "      <td>23207</td>\n",
       "      <td>17</td>\n",
       "      <td>0.998849</td>\n",
       "      <td>0.998777</td>\n",
       "      <td>0.999111</td>\n",
       "    </tr>\n",
       "    <tr>\n",
       "      <th>6</th>\n",
       "      <td>GST on Income</td>\n",
       "      <td>22924</td>\n",
       "      <td>61.743159</td>\n",
       "      <td>22924</td>\n",
       "      <td>22919</td>\n",
       "      <td>13</td>\n",
       "      <td>14191</td>\n",
       "      <td>5</td>\n",
       "      <td>0.999433</td>\n",
       "      <td>0.999782</td>\n",
       "      <td>0.999515</td>\n",
       "    </tr>\n",
       "  </tbody>\n",
       "</table>\n",
       "</div>"
      ]
     },
     "execution_count": 51,
     "metadata": {},
     "output_type": "execute_result"
    }
   ],
   "execution_count": 51
  },
  {
   "metadata": {
    "ExecuteTime": {
     "end_time": "2025-05-07T14:30:57.447835Z",
     "start_time": "2025-05-07T14:30:57.440601Z"
    }
   },
   "cell_type": "code",
   "source": "summary_metrics_df",
   "id": "878fdbbfd322aef0",
   "outputs": [
    {
     "data": {
      "text/plain": [
       "          class  num_samples_in_eval  pct_in_eval (%)  num_samples_in_train  \\\n",
       "0     Macro Avg                37128            100.0                 37127   \n",
       "1  Weighted Avg                37128            100.0                 37127   \n",
       "\n",
       "   precision    recall  accuracy  \n",
       "0   0.670237  0.666517  0.999523  \n",
       "1   0.998030  0.998330  0.999363  "
      ],
      "text/html": [
       "<div>\n",
       "<style scoped>\n",
       "    .dataframe tbody tr th:only-of-type {\n",
       "        vertical-align: middle;\n",
       "    }\n",
       "\n",
       "    .dataframe tbody tr th {\n",
       "        vertical-align: top;\n",
       "    }\n",
       "\n",
       "    .dataframe thead th {\n",
       "        text-align: right;\n",
       "    }\n",
       "</style>\n",
       "<table border=\"1\" class=\"dataframe\">\n",
       "  <thead>\n",
       "    <tr style=\"text-align: right;\">\n",
       "      <th></th>\n",
       "      <th>class</th>\n",
       "      <th>num_samples_in_eval</th>\n",
       "      <th>pct_in_eval (%)</th>\n",
       "      <th>num_samples_in_train</th>\n",
       "      <th>precision</th>\n",
       "      <th>recall</th>\n",
       "      <th>accuracy</th>\n",
       "    </tr>\n",
       "  </thead>\n",
       "  <tbody>\n",
       "    <tr>\n",
       "      <th>0</th>\n",
       "      <td>Macro Avg</td>\n",
       "      <td>37128</td>\n",
       "      <td>100.0</td>\n",
       "      <td>37127</td>\n",
       "      <td>0.670237</td>\n",
       "      <td>0.666517</td>\n",
       "      <td>0.999523</td>\n",
       "    </tr>\n",
       "    <tr>\n",
       "      <th>1</th>\n",
       "      <td>Weighted Avg</td>\n",
       "      <td>37128</td>\n",
       "      <td>100.0</td>\n",
       "      <td>37127</td>\n",
       "      <td>0.998030</td>\n",
       "      <td>0.998330</td>\n",
       "      <td>0.999363</td>\n",
       "    </tr>\n",
       "  </tbody>\n",
       "</table>\n",
       "</div>"
      ]
     },
     "execution_count": 52,
     "metadata": {},
     "output_type": "execute_result"
    }
   ],
   "execution_count": 52
  },
  {
   "metadata": {
    "ExecuteTime": {
     "end_time": "2025-05-07T14:31:04.624195Z",
     "start_time": "2025-05-07T14:31:04.607592Z"
    }
   },
   "cell_type": "code",
   "source": [
    "error_groups = results_df[results_df['is_error'] == True].groupby(['prediction', 'ground_truth'])\n",
    "\n",
    "# 3. Calculate error count and validate class_frequency\n",
    "error_analysis = []\n",
    "for (pred, truth), group in error_groups:\n",
    "    # Check if class_frequency has more than one unique value\n",
    "    unique_frequencies = group['class_frequency'].unique()\n",
    "    if len(unique_frequencies) > 1:\n",
    "        raise ValueError(f\"Multiple class_frequency values found for prediction={pred}, ground_truth={truth}\")\n",
    "\n",
    "    # Create a record for this error group\n",
    "    error_analysis.append({\n",
    "        'prediction': pred,\n",
    "        'ground_truth': truth,\n",
    "        'error_count': len(group),\n",
    "        'class_frequency': unique_frequencies[0]\n",
    "    })\n",
    "\n",
    "# Convert to DataFrame and sort by error count\n",
    "error_df = pd.DataFrame(error_analysis)\n",
    "error_df = error_df.sort_values('error_count', ascending=False).reset_index(drop=True)"
   ],
   "id": "c6683bdc93e5a68f",
   "outputs": [],
   "execution_count": 53
  },
  {
   "metadata": {
    "ExecuteTime": {
     "end_time": "2025-05-07T14:31:17.083553Z",
     "start_time": "2025-05-07T14:31:17.077063Z"
    }
   },
   "cell_type": "code",
   "source": "error_df",
   "id": "124af8c604c39abd",
   "outputs": [
    {
     "data": {
      "text/plain": [
       "           prediction       ground_truth  error_count  class_frequency\n",
       "0        BAS Excluded    GST on Expenses           10            37.45\n",
       "1     GST on Expenses     GST on Capital           10             0.03\n",
       "2        BAS Excluded  GST Free Expenses            7             0.14\n",
       "3        BAS Excluded    GST Free Income            6             0.29\n",
       "4       GST on Income    GST on Expenses            6            37.45\n",
       "5     GST Free Income      GST on Income            5            61.74\n",
       "6       GST on Income    GST Free Income            5             0.29\n",
       "7     GST on Expenses       BAS Excluded            4             0.34\n",
       "8   GST Free Expenses       BAS Excluded            3             0.34\n",
       "9     GST on Expenses  GST Free Expenses            2             0.14\n",
       "10      GST on Income     GST on Capital            2             0.03\n",
       "11  GST Free Expenses    GST on Expenses            1            37.45\n",
       "12    GST Free Income   GST Free Exports            1             0.00"
      ],
      "text/html": [
       "<div>\n",
       "<style scoped>\n",
       "    .dataframe tbody tr th:only-of-type {\n",
       "        vertical-align: middle;\n",
       "    }\n",
       "\n",
       "    .dataframe tbody tr th {\n",
       "        vertical-align: top;\n",
       "    }\n",
       "\n",
       "    .dataframe thead th {\n",
       "        text-align: right;\n",
       "    }\n",
       "</style>\n",
       "<table border=\"1\" class=\"dataframe\">\n",
       "  <thead>\n",
       "    <tr style=\"text-align: right;\">\n",
       "      <th></th>\n",
       "      <th>prediction</th>\n",
       "      <th>ground_truth</th>\n",
       "      <th>error_count</th>\n",
       "      <th>class_frequency</th>\n",
       "    </tr>\n",
       "  </thead>\n",
       "  <tbody>\n",
       "    <tr>\n",
       "      <th>0</th>\n",
       "      <td>BAS Excluded</td>\n",
       "      <td>GST on Expenses</td>\n",
       "      <td>10</td>\n",
       "      <td>37.45</td>\n",
       "    </tr>\n",
       "    <tr>\n",
       "      <th>1</th>\n",
       "      <td>GST on Expenses</td>\n",
       "      <td>GST on Capital</td>\n",
       "      <td>10</td>\n",
       "      <td>0.03</td>\n",
       "    </tr>\n",
       "    <tr>\n",
       "      <th>2</th>\n",
       "      <td>BAS Excluded</td>\n",
       "      <td>GST Free Expenses</td>\n",
       "      <td>7</td>\n",
       "      <td>0.14</td>\n",
       "    </tr>\n",
       "    <tr>\n",
       "      <th>3</th>\n",
       "      <td>BAS Excluded</td>\n",
       "      <td>GST Free Income</td>\n",
       "      <td>6</td>\n",
       "      <td>0.29</td>\n",
       "    </tr>\n",
       "    <tr>\n",
       "      <th>4</th>\n",
       "      <td>GST on Income</td>\n",
       "      <td>GST on Expenses</td>\n",
       "      <td>6</td>\n",
       "      <td>37.45</td>\n",
       "    </tr>\n",
       "    <tr>\n",
       "      <th>5</th>\n",
       "      <td>GST Free Income</td>\n",
       "      <td>GST on Income</td>\n",
       "      <td>5</td>\n",
       "      <td>61.74</td>\n",
       "    </tr>\n",
       "    <tr>\n",
       "      <th>6</th>\n",
       "      <td>GST on Income</td>\n",
       "      <td>GST Free Income</td>\n",
       "      <td>5</td>\n",
       "      <td>0.29</td>\n",
       "    </tr>\n",
       "    <tr>\n",
       "      <th>7</th>\n",
       "      <td>GST on Expenses</td>\n",
       "      <td>BAS Excluded</td>\n",
       "      <td>4</td>\n",
       "      <td>0.34</td>\n",
       "    </tr>\n",
       "    <tr>\n",
       "      <th>8</th>\n",
       "      <td>GST Free Expenses</td>\n",
       "      <td>BAS Excluded</td>\n",
       "      <td>3</td>\n",
       "      <td>0.34</td>\n",
       "    </tr>\n",
       "    <tr>\n",
       "      <th>9</th>\n",
       "      <td>GST on Expenses</td>\n",
       "      <td>GST Free Expenses</td>\n",
       "      <td>2</td>\n",
       "      <td>0.14</td>\n",
       "    </tr>\n",
       "    <tr>\n",
       "      <th>10</th>\n",
       "      <td>GST on Income</td>\n",
       "      <td>GST on Capital</td>\n",
       "      <td>2</td>\n",
       "      <td>0.03</td>\n",
       "    </tr>\n",
       "    <tr>\n",
       "      <th>11</th>\n",
       "      <td>GST Free Expenses</td>\n",
       "      <td>GST on Expenses</td>\n",
       "      <td>1</td>\n",
       "      <td>37.45</td>\n",
       "    </tr>\n",
       "    <tr>\n",
       "      <th>12</th>\n",
       "      <td>GST Free Income</td>\n",
       "      <td>GST Free Exports</td>\n",
       "      <td>1</td>\n",
       "      <td>0.00</td>\n",
       "    </tr>\n",
       "  </tbody>\n",
       "</table>\n",
       "</div>"
      ]
     },
     "execution_count": 54,
     "metadata": {},
     "output_type": "execute_result"
    }
   ],
   "execution_count": 54
  },
  {
   "metadata": {
    "ExecuteTime": {
     "end_time": "2025-05-07T14:31:29.557599Z",
     "start_time": "2025-05-07T14:31:29.555629Z"
    }
   },
   "cell_type": "code",
   "source": "",
   "id": "7430d7ac49536886",
   "outputs": [],
   "execution_count": null
  }
 ],
 "metadata": {
  "kernelspec": {
   "display_name": "Python 3",
   "language": "python",
   "name": "python3"
  },
  "language_info": {
   "codemirror_mode": {
    "name": "ipython",
    "version": 2
   },
   "file_extension": ".py",
   "mimetype": "text/x-python",
   "name": "python",
   "nbconvert_exporter": "python",
   "pygments_lexer": "ipython2",
   "version": "2.7.6"
  }
 },
 "nbformat": 4,
 "nbformat_minor": 5
}
